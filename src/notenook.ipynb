{
 "cells": [
  {
   "cell_type": "code",
   "execution_count": null,
   "id": "MJUe",
   "metadata": {},
   "outputs": [],
   "source": [
    "import os\n",
    "import marimo as mo\n",
    "import pandas as pd \n",
    "import numpy as np \n",
    "import matplotlib.pyplot as plt \n",
    "import seaborn as sns\n",
    "from sklearn.cluster import KMeans\n",
    "from sklearn.preprocessing import StandardScaler\n",
    "from sklearn.metrics import silhouette_score\n",
    "# plt.style.use('seaborn-v0_8')\n",
    "plt.style.use('default')\n"
   ]
  },
  {
   "cell_type": "markdown",
   "id": "Hbol",
   "metadata": {
    "marimo": {
     "config": {
      "hide_code": true
     }
    }
   },
   "source": [
    "# Assignment 3\n",
    "Ibrahim Alghrabi -- 201724510\n",
    "\n",
    "### Dataset\n",
    "1. Consist of 2000 observation of purchasing behavior.\n",
    "2. Data dictionary is as follow:\n",
    "\n",
    "| Variable        | Data Type   | Range        | Description                                                                   |\n",
    "| :---------------: | :-----------: | :------------: | :----------------------------------------------------------------------------- |\n",
    "| ID              | Numerical   | Integer      | Unique customer identifier.                                                 |\n",
    "| Sex             | Categorical | {0, 1}       | Biological sex: 0 = male, 1 = female.                                       |\n",
    "| Marital Status  | Categorical | {0, 1}       | Marital status: 0 = single, 1 = non-single.                                 |\n",
    "| Age             | Numerical   | Integer      | Customer's age in years (18-76).                                              |\n",
    "| Education       | Categorical | {0, 1, 2, 3} | Education level: 0 = other/unknown, 1 = high school, 2 = university, 3 = graduate school |\n",
    "| Income          | Numerical   | Real         | Annual income in USD (35832-309364).                                        |\n",
    "| Occupation      | Categorical | {0, 1, 2}    | Occupation category: 0 = unemployed/unskilled, 1 = skilled/official, 2 = management/self-employed |\n",
    "| Settlement Size | Categorical | {0, 1, 2}    | City size: 0 = small, 1 = mid-sized, 2 = big.                                 |\n",
    "\n",
    "### Task\n",
    "1. To Apply clustering techniques to analyze the customers and uncover patterns in customers demographic and financial behvaior using K-means algorithm.\n",
    "2. Use centroid initialization to improve convergence.\n",
    "3. Determine the optimal number os cluster using both WCSS and Silhouette Coefficient.\n",
    "4. Train and predict cluster label for each customer and append it as a new column to the dataset\n",
    "5. Visualize the clustering results:\n",
    "   - Annual Income (x-axis) vs Age (y-axis).\n",
    "   - Annual Income (x-axis) vs Education Level (y-axis).\n",
    "\n",
    "### Interpretation\n",
    "1. Provide a detailed description of each identified customer clustering.\n",
    "2. Propose specific marketing strategies taiolred to each customer segment.\n",
    "\n",
    "### My Approach\n",
    "\n",
    "1. Preprocessing.\n",
    "2. Implement K-Mean++\n",
    "3. Use WCSS.\n",
    "4. Calculate Silhouette Scores.\n",
    "5. Determine the optimal K\n",
    "6. Final Model Training.\n",
    "7. Predict.\n",
    "8. Visualize"
   ]
  },
  {
   "cell_type": "code",
   "execution_count": null,
   "id": "vblA",
   "metadata": {},
   "outputs": [],
   "source": [
    "# Manage directories \n",
    "src_dir = os.path.dirname(os.path.abspath(__file__))\n",
    "repo_dir = os.path.join(src_dir, os.pardir)\n",
    "data_dir = os.path.join(repo_dir, \"data\")\n",
    "data_path = os.path.join(data_dir, \"segmentation_data.csv\")\n",
    "data_path\n"
   ]
  },
  {
   "cell_type": "code",
   "execution_count": null,
   "id": "bkHC",
   "metadata": {},
   "outputs": [],
   "source": [
    "# Load datasets\n",
    "df = pd.read_csv(data_path)\n",
    "df.info()"
   ]
  },
  {
   "cell_type": "markdown",
   "id": "lEQa",
   "metadata": {},
   "source": [
    "# Dataset\n",
    "\n",
    "1. The dataset contains 2000 obbservation and 8 numerical features.\n",
    "2. The data does not have any missing values.\n",
    "\n",
    "From the analsys beloew, we notice the following:\n",
    "\n",
    "1. Male custmer are slightly higher than demalre customers.\n",
    "2. Equaly distributed marital status.\n",
    "3. The age distribution is right skewed, with mean of 35 years and standard deviation of ~12 years.\n",
    "4. Most of the customer are high school graduate.\n",
    "5. Income distribution is also right skewed with an avergae of 120,000$ and stanadrad deviation of 38000$.\n",
    "6. Most customers are employed or self employed.\n",
    "7. Most customers live in small cities."
   ]
  },
  {
   "cell_type": "code",
   "execution_count": null,
   "id": "PKri",
   "metadata": {},
   "outputs": [],
   "source": [
    "cols = df.columns.to_list()[1:]\n",
    "fig, axes = plt.subplots(2, 4, figsize=(18,6))\n",
    "axes = axes.flatten()\n",
    "fig.suptitle(\"Bar plots of the dataset\")\n",
    "for idx, col in enumerate(cols): \n",
    "    x = df[col]\n",
    "    sns.histplot(x, ax=axes[idx])\n",
    "    plt.tight_layout()\n",
    "plt.show()"
   ]
  },
  {
   "cell_type": "code",
   "execution_count": null,
   "id": "Xref",
   "metadata": {},
   "outputs": [],
   "source": [
    "df.describe()"
   ]
  },
  {
   "cell_type": "markdown",
   "id": "SFPL",
   "metadata": {},
   "source": [
    "# Preprocessing\n",
    "\n",
    "1. Pick only relevant features. Income, Age, and Education\n",
    "2. Apply log transformation to income column since it shows a noticeable skewness\n",
    "3. Scale the features using standard scaler."
   ]
  },
  {
   "cell_type": "code",
   "execution_count": null,
   "id": "BYtC",
   "metadata": {},
   "outputs": [],
   "source": [
    "# 1. Drop id columns\n",
    "df.drop(columns=\"ID\", axis=1, inplace=True)"
   ]
  },
  {
   "cell_type": "code",
   "execution_count": null,
   "id": "RGSE",
   "metadata": {},
   "outputs": [],
   "source": [
    "_fig, _axes = plt.subplots(1, 2, figsize=(18,6))\n",
    "_fig.suptitle(\"Applying log transformation\")\n",
    "sns.histplot(df[\"Income\"], ax=_axes[0])\n",
    "_axes[0].set_title(\"Before\")\n",
    "df[\"Income\"] = np.log1p(df[\"Income\"])\n",
    "sns.histplot(df[\"Income\"], ax=_axes[1])\n",
    "_axes[1].set_title(\"After\")\n",
    "plt.show()"
   ]
  },
  {
   "cell_type": "code",
   "execution_count": null,
   "id": "Kclp",
   "metadata": {},
   "outputs": [],
   "source": [
    "# Pick selected features \n",
    "df_sel = df[[\"Income\", \"Age\", \"Education\"]].copy()\n",
    "\n",
    "# Apply standard scaling\n",
    "scaler = StandardScaler()\n",
    "col_to_scale = [\"Income\", \"Age\"]\n",
    "df_sel[col_to_scale] = scaler.fit_transform(df_sel[col_to_scale])\n",
    "\n",
    "df_sel.describe()"
   ]
  },
  {
   "cell_type": "markdown",
   "id": "emfo",
   "metadata": {
    "marimo": {
     "config": {
      "hide_code": true
     }
    }
   },
   "source": [
    "#  K Value :\n",
    "\n",
    "Determining K value with the following metrics while using KMeans++ initialize method.\n",
    "\n",
    "1. WCSS.\n",
    "2. Silhouette Scores"
   ]
  },
  {
   "cell_type": "code",
   "execution_count": null,
   "id": "Hstk",
   "metadata": {},
   "outputs": [],
   "source": [
    "# Setting the ranges from 1 to 10\n",
    "\n",
    "k_range = np.arange(2, 16)\n",
    "wcss_scores = []\n",
    "sil_scores = []\n",
    "for k in k_range: \n",
    "    k_means= KMeans(\n",
    "        n_clusters=k,\n",
    "        init=\"k-means++\" # KMeans++ init method\n",
    "    )\n",
    "    k_means.fit(df_sel)\n",
    "    wcss = k_means.inertia_\n",
    "    labels = k_means.labels_\n",
    "    sil = silhouette_score(df_sel, labels)\n",
    "    print(f\"K:{k}. WCSS: {wcss:.4f}, Sillhouette: {sil:.4f}\")\n",
    "    wcss_scores.append(wcss)\n",
    "    sil_scores.append(sil)\n"
   ]
  },
  {
   "cell_type": "code",
   "execution_count": null,
   "id": "nWHF",
   "metadata": {},
   "outputs": [],
   "source": [
    "_fig, _axes = plt.subplots(1, 2, figsize=(18,6))\n",
    "_axes[0].set_title(\"WCSS\")\n",
    "_axes[0].set_xlabel(\"K\")\n",
    "_axes[0].set_ylabel(\"WCSS\")\n",
    "sns.lineplot(x=k_range, y=wcss_scores, ax=_axes[0])\n",
    "_axes[1].set_title(\"Silhouette Scores\")\n",
    "_axes[1].set_xlabel(\"K\")\n",
    "_axes[1].set_ylabel(\"Silhouette Scores\")\n",
    "sns.lineplot(x=k_range, y=sil_scores, ax=_axes[1])\n"
   ]
  },
  {
   "cell_type": "markdown",
   "id": "iLit",
   "metadata": {},
   "source": [
    "## Picking K value.\n",
    "\n",
    "From the above graphs we note:\n",
    "\n",
    "1. Rate of dcreasing slows down (elbow) between $4 \\leq  K \\leq 5$.\n",
    "2. A drop down after $K=2$ then gradually increases with K values.\n",
    "\n",
    "Finally, considering the elbow point and interpretability and practical segmentation, we select $K=5$."
   ]
  },
  {
   "cell_type": "markdown",
   "id": "ZHCJ",
   "metadata": {},
   "source": [
    "# Final Model\n",
    "\n",
    "1. Train the final model with $K=5$.\n",
    "2. Predict the data.\n",
    "3. Append the dataframe\n",
    "4. Interperate the clusters."
   ]
  },
  {
   "cell_type": "code",
   "execution_count": null,
   "id": "ROlb",
   "metadata": {},
   "outputs": [],
   "source": [
    "# Train the final model\n",
    "optimal_k = 5\n",
    "k_final = KMeans(\n",
    "    n_clusters=optimal_k,\n",
    "    init=\"k-means++\"\n",
    ")\n",
    "# Predict the data\n",
    "k_final.fit(df_sel)\n",
    "wcss_final = k_final.inertia_\n",
    "labels_final = k_final.labels_\n",
    "sil_final = silhouette_score(df_sel, labels_final)\n",
    "\n",
    "# Append the the predicted labels\n",
    "df_sel[\"clusters\"] = labels_final\n"
   ]
  },
  {
   "cell_type": "code",
   "execution_count": null,
   "id": "qnkX",
   "metadata": {},
   "outputs": [],
   "source": [
    "# Reverse log transformation and scaling\n",
    "df_inverse = df_sel.copy()\n",
    "df_inverse[col_to_scale] = scaler.inverse_transform(df_inverse[col_to_scale])\n",
    "df_inverse[\"Income\"] = np.expm1(df_inverse[\"Income\"])\n",
    "df_inverse.describe()"
   ]
  },
  {
   "cell_type": "code",
   "execution_count": null,
   "id": "TqIu",
   "metadata": {},
   "outputs": [],
   "source": [
    "_cols = [\"Income\", \"Age\", \"Education\"]\n",
    "print(df_inverse.groupby(\"clusters\")[\"Income\"].aggregate([\"mean\", \"min\", \"max\"]))"
   ]
  },
  {
   "cell_type": "code",
   "execution_count": null,
   "id": "Vxnm",
   "metadata": {},
   "outputs": [],
   "source": [
    "df_inverse.groupby(\"clusters\")[\"Age\"].aggregate([\"mean\", \"min\", \"max\"])"
   ]
  },
  {
   "cell_type": "code",
   "execution_count": null,
   "id": "DnEU",
   "metadata": {},
   "outputs": [],
   "source": [
    "df_inverse.groupby(\"clusters\")[\"Education\"].aggregate([\"mean\", \"min\", \"max\"])"
   ]
  },
  {
   "cell_type": "code",
   "execution_count": null,
   "id": "ulZA",
   "metadata": {},
   "outputs": [],
   "source": [
    "sns.pairplot(df_inverse, hue='clusters', vars=['Income', 'Age', 'Education'])\n",
    "plt.show()"
   ]
  },
  {
   "cell_type": "code",
   "execution_count": null,
   "id": "ecfG",
   "metadata": {},
   "outputs": [],
   "source": [
    "plt.figure(figsize=(25,8))\n",
    "sns.scatterplot(df_inverse, x=\"Income\", y=\"Age\", hue=\"clusters\", palette=\"Set1\")\n",
    "plt.title(\"Age vs Income\")\n",
    "plt.show()"
   ]
  },
  {
   "cell_type": "code",
   "execution_count": null,
   "id": "Pvdt",
   "metadata": {},
   "outputs": [],
   "source": [
    "plt.figure(figsize=(25,8))\n",
    "sns.scatterplot(df_inverse, x=\"Income\", y=\"Education\", hue=\"clusters\", palette=\"Set1\")\n",
    "plt.title(\"Age vs Income\")\n",
    "plt.show()"
   ]
  },
  {
   "cell_type": "code",
   "execution_count": null,
   "id": "ZBYS",
   "metadata": {},
   "outputs": [],
   "source": [
    "plt.figure(figsize=(25,8))\n",
    "sns.swarmplot(df_inverse, y=\"Income\", x=\"Education\", hue=\"clusters\", size=4.5, palette='Set1')\n",
    "plt.title(\"Education vs Income\")\n",
    "plt.show()"
   ]
  },
  {
   "cell_type": "code",
   "execution_count": null,
   "id": "aLJB",
   "metadata": {},
   "outputs": [],
   "source": [
    "print(df_inverse.groupby(\"clusters\")[[\"Income\", \"Age\", \"Education\"]].aggregate(\"mean\"))\n",
    "print(df_inverse[\"clusters\"].value_counts())"
   ]
  },
  {
   "cell_type": "code",
   "execution_count": null,
   "id": "nHfw",
   "metadata": {},
   "outputs": [],
   "source": [
    "print(df_inverse.groupby(\"clusters\")[\"Education\"].aggregate(\"value_counts\")[4])"
   ]
  },
  {
   "cell_type": "markdown",
   "id": "xXTn",
   "metadata": {},
   "source": [
    "# Intepretation\n",
    "\n",
    "From the above analysis we note the following:\n",
    "\n",
    "|Clustering|Total Count|Income (Mean) |Age (Mean) |Education (Count)|\n",
    "|:---:|:---|:---|:---|:---|\n",
    "|0 |293|Lowest (70k) |Young 20~40 (30) | Mostly high school (~200) |\n",
    "|1 |334|Highest (170k)|Young 20~40 (33)|  Mostly high school (~250)|\n",
    "|2 |234|High (150k)|High > 40 (60)| Mostly university (~180) |\n",
    "|3 |442|Mid (110k)|Mid >30 (42)| Mostly highschool (~350) |\n",
    "|4 |697|Mid (110)|Young < 30|Mostly highschool (~550)|\n",
    "\n",
    "# Marketing Strategies\n",
    "\n",
    "## Cluster 0\n",
    "- **Profile:** Young adult, low income, and mostly high school education.\n",
    "- **Strategy:** We should offer this group products that are low cost and essential. It is important to show the good value and make them easy to find on social media and mobile phones.\n",
    "\n",
    "## Cluster 1\n",
    "- **Profile:** Highest income, young, mostly high school gradute):\n",
    "- **Strategy:** For this group, we can promote products that are new, fashionable, and offer good experiences. We should use online influencers and digital places where rich young people spend time.\n",
    "\n",
    "## Cluster 2\n",
    "- **Profile:** High income, high age, mostly university gradute\n",
    "- **Strategy:** We can offer these customers very high-quality products or services. We should focus on comfort, how reliable they are, and benefits for a long time, using ads where professionals look.\n",
    "\n",
    "## Cluster 3\n",
    "- **Profile:** Mid income, mid age, mostly high school\n",
    "- **Strategy:** We should market useful products for families or for improving life, at a medium price. We need to show they are good value and dependable, with messages they can connect to.\n",
    "\n",
    "## Cluster 4\n",
    "- **Profile:** Mid income, young, mostly high school\n",
    "- **Strategy:** We can attract this group with promotions for popular items and fun activities that are not too expensive. We must focus on social media to connect with them and create a community."
   ]
  },
  {
   "cell_type": "code",
   "execution_count": null,
   "id": "AjVT",
   "metadata": {},
   "outputs": [],
   "source": []
  }
 ],
 "metadata": {},
 "nbformat": 4,
 "nbformat_minor": 5
}
